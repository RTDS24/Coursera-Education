{
 "cells": [
  {
   "cell_type": "markdown",
   "id": "08cf33c5-1a84-4865-9b97-8a763c980781",
   "metadata": {},
   "source": [
    "# Data Science Tools and Ecosystem"
   ]
  },
  {
   "cell_type": "markdown",
   "id": "190094fc-c90e-4f86-af81-d97a95f31eea",
   "metadata": {
    "tags": []
   },
   "source": [
    "## In this notebook, Data Science Tools and Ecosystem are summarized.\n"
   ]
  },
  {
   "cell_type": "markdown",
   "id": "35ca81dc-5346-454d-9a7a-bff0c4b7d3b0",
   "metadata": {
    "tags": []
   },
   "source": [
    "***Objectives*** List of popular DS languages\n",
    "\n",
    "+ Pythion\n",
    "+ R\n",
    "+ SQL "
   ]
  },
  {
   "cell_type": "markdown",
   "id": "a1bc7906-a7f5-4620-9718-e82663788e4f",
   "metadata": {},
   "source": [
    "### Some of the popular languages that Data Scientists use are:"
   ]
  },
  {
   "cell_type": "markdown",
   "id": "4e2f473b-2d5b-4ea0-9006-6baa82d28ef8",
   "metadata": {},
   "source": [
    "* Python\n",
    "* R\n",
    "* SQL "
   ]
  },
  {
   "cell_type": "markdown",
   "id": "bec56322-f806-4915-9bf1-a2ffeccec6bc",
   "metadata": {},
   "source": [
    "### Some of the commonly used libraries used by Data Scientists include"
   ]
  },
  {
   "cell_type": "markdown",
   "id": "f674a8ed-24f4-4942-8c61-0a46aa85833d",
   "metadata": {},
   "source": [
    "1. Anaconda\n",
    "2. Pandas\n",
    "3. Numpy"
   ]
  },
  {
   "cell_type": "markdown",
   "id": "c886b3e0-b6bc-48cd-aa2f-a2a564173b5a",
   "metadata": {},
   "source": [
    "| Data Science Tool|\n",
    "|------------------|\n",
    "| Apache |\n",
    "| Julia | \n",
    "| Watson |"
   ]
  },
  {
   "cell_type": "markdown",
   "id": "74913746-22ad-4eec-9c44-ba3ffdfd1d5f",
   "metadata": {},
   "source": [
    "### Below are a few examples of evaluating arithmetic expressions in Python.\n"
   ]
  },
  {
   "cell_type": "code",
   "execution_count": 3,
   "id": "68ef0f27-ec17-4988-9c5a-bc248be862d4",
   "metadata": {
    "tags": []
   },
   "outputs": [
    {
     "data": {
      "text/plain": [
       "17"
      ]
     },
     "execution_count": 3,
     "metadata": {},
     "output_type": "execute_result"
    }
   ],
   "source": [
    "(3*4)+5"
   ]
  },
  {
   "cell_type": "markdown",
   "id": "b1999185-d20d-4e8c-8964-a0f0c9026f8a",
   "metadata": {},
   "source": [
    "##### This will convert 200 minutes to hours by diving by 60\n"
   ]
  },
  {
   "cell_type": "code",
   "execution_count": 4,
   "id": "cb272038-c553-42e0-b52f-750ea5ac1675",
   "metadata": {
    "tags": []
   },
   "outputs": [
    {
     "data": {
      "text/plain": [
       "3.3333333333333335"
      ]
     },
     "execution_count": 4,
     "metadata": {},
     "output_type": "execute_result"
    }
   ],
   "source": [
    "(200/60)"
   ]
  },
  {
   "cell_type": "markdown",
   "id": "1c67c498-5707-41e6-a305-23a8d8d222f7",
   "metadata": {},
   "source": [
    "## Author\n",
    " René T\n",
    " "
   ]
  }
 ],
 "metadata": {
  "kernelspec": {
   "display_name": "Python",
   "language": "python",
   "name": "conda-env-python-py"
  },
  "language_info": {
   "codemirror_mode": {
    "name": "ipython",
    "version": 3
   },
   "file_extension": ".py",
   "mimetype": "text/x-python",
   "name": "python",
   "nbconvert_exporter": "python",
   "pygments_lexer": "ipython3",
   "version": "3.7.12"
  }
 },
 "nbformat": 4,
 "nbformat_minor": 5
}
